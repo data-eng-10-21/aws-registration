{
 "cells": [
  {
   "cell_type": "markdown",
   "metadata": {},
   "source": [
    "# Working With AWS"
   ]
  },
  {
   "cell_type": "markdown",
   "metadata": {},
   "source": [
    "### Introduction "
   ]
  },
  {
   "cell_type": "markdown",
   "metadata": {},
   "source": [
    "Deployment is a critical part of engineering.  It's what gets our hard work off of our computer and allows users to access it.  There are two things to know, environment setup can be a little tedious, but it's also quite important.  "
   ]
  },
  {
   "cell_type": "markdown",
   "metadata": {},
   "source": [
    "Why do we need to learn about cloud computing resources like AWS?  \n",
    "\n",
    "1. **Large datasets** Without a cloud service like AWS we simply cannot use certain datasets as the datasets would be too large for our computer.  \n",
    "2. **Deployment** Using a cloud service is critical to putting any website or web service into production for users to access."
   ]
  },
  {
   "cell_type": "markdown",
   "metadata": {},
   "source": [
    "### Setting up AWS "
   ]
  },
  {
   "cell_type": "markdown",
   "metadata": {},
   "source": [
    "To setup AWS, our first step is to register for an AWS account.  [Click here](https://aws.amazon.com/) to get to the AWS homepage. "
   ]
  },
  {
   "cell_type": "markdown",
   "metadata": {},
   "source": [
    "<img src=\"create-aws-account.png\" width=\"70%\">"
   ]
  },
  {
   "cell_type": "markdown",
   "metadata": {},
   "source": [
    "* Now click on the orange button in the top right, which says \"Create a New Account\" or \"Sign In to the Console\" .\n",
    "* Next, add in the registration information.  \n",
    "    * Unfortunately, we must enter a credit card number to register we will not be charged under the free account.\n",
    "    \n",
    "* Eventually, we'll reach the page displayed below to select our plan.  Click on the Basic Plan, which is free."
   ]
  },
  {
   "cell_type": "markdown",
   "metadata": {},
   "source": [
    "<img src=\"./select-plan.png\" width=\"50%\"/> "
   ]
  },
  {
   "cell_type": "markdown",
   "metadata": {},
   "source": [
    "Next, sign into Amazon Web Services with your email address and password. \n",
    "\n",
    "> Click the yellow button."
   ]
  },
  {
   "cell_type": "markdown",
   "metadata": {},
   "source": [
    "<img src=\"signin-after-register.png\" /> "
   ]
  },
  {
   "cell_type": "markdown",
   "metadata": {},
   "source": [
    "Once doing so, you should see the the AWS management console.  You can recognize it by the title."
   ]
  },
  {
   "cell_type": "markdown",
   "metadata": {},
   "source": [
    "<img src=\"./aws-mgmt-console.png\" />"
   ]
  },
  {
   "cell_type": "markdown",
   "metadata": {},
   "source": [
    "### Summary"
   ]
  },
  {
   "cell_type": "markdown",
   "metadata": {},
   "source": [
    "In this lesson, we got started by registering for an Amazon account.  We'll use Amazon Web Services to both store our data and place our web services into production. "
   ]
  },
  {
   "cell_type": "markdown",
   "metadata": {},
   "source": [
    "### Resources"
   ]
  },
  {
   "cell_type": "markdown",
   "metadata": {},
   "source": [
    "[AWS Article](https://medium.com/@alexjsanchez/python-3-notebooks-on-aws-ec2-in-15-mostly-easy-steps-2ec5e662c6c6)"
   ]
  }
 ],
 "metadata": {
  "kernelspec": {
   "display_name": "Python 3",
   "language": "python",
   "name": "python3"
  },
  "language_info": {
   "codemirror_mode": {
    "name": "ipython",
    "version": 3
   },
   "file_extension": ".py",
   "mimetype": "text/x-python",
   "name": "python",
   "nbconvert_exporter": "python",
   "pygments_lexer": "ipython3",
   "version": "3.9.1"
  }
 },
 "nbformat": 4,
 "nbformat_minor": 4
}
